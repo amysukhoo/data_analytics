{
  "nbformat": 4,
  "nbformat_minor": 0,
  "metadata": {
    "colab": {
      "name": "AmySukhoo_Unit2_Function_Assignment_6.ipynb",
      "provenance": [],
      "authorship_tag": "ABX9TyN9yKUUOOMdV5+IwSjnVPN/",
      "include_colab_link": true
    },
    "kernelspec": {
      "name": "python3",
      "display_name": "Python 3"
    }
  },
  "cells": [
    {
      "cell_type": "markdown",
      "metadata": {
        "id": "view-in-github",
        "colab_type": "text"
      },
      "source": [
        "<a href=\"https://colab.research.google.com/github/amysukhoo/data_analytics/blob/main/AmySukhoo_Unit2_Function_Assignment_6.ipynb\" target=\"_parent\"><img src=\"https://colab.research.google.com/assets/colab-badge.svg\" alt=\"Open In Colab\"/></a>"
      ]
    },
    {
      "cell_type": "code",
      "metadata": {
        "id": "leG1AWBU8CUg"
      },
      "source": [
        "#write a function that accepts two arguments for example city and country, hospital name and department etc.\n",
        "#call your function 3 times- for three different examples - i.e New york, new jersey, florida \n",
        "#modify your function to take in a default parameter"
      ],
      "execution_count": null,
      "outputs": []
    },
    {
      "cell_type": "code",
      "metadata": {
        "colab": {
          "base_uri": "https://localhost:8080/"
        },
        "id": "HSTbZcfd9XoM",
        "outputId": "d6713984-9dea-49b1-ff93-c01dc33b9b67"
      },
      "source": [
        "def location_name(city_name, state_name):\n",
        "  \"\"\"location of someone's travels in the United States\"\"\"\n",
        "  print(\"I have been to \" + city_name + \" & \" + state_name)\n",
        "\n",
        "location_name('Denver','Colorado')\n",
        "location_name('Los Angeles', 'California')\n",
        "location_name('Miami', 'Florida')"
      ],
      "execution_count": null,
      "outputs": [
        {
          "output_type": "stream",
          "text": [
            "I have been to Denver & Colorado\n",
            "I have been to Los Angeles & California\n",
            "I have been to Miami & Florida\n"
          ],
          "name": "stdout"
        }
      ]
    },
    {
      "cell_type": "code",
      "metadata": {
        "colab": {
          "base_uri": "https://localhost:8080/"
        },
        "id": "TvK-y_kvAehE",
        "outputId": "d2339c76-0254-4515-c8e3-58a064eac911"
      },
      "source": [
        "def location_name(city_name, state_name= 'New York'):\n",
        "  \"\"\"location of someone in the United States\"\"\"\n",
        "  print(\"I have been to \" + city_name + \" & \" + state_name)\n",
        "\n",
        "location_name('Denver')\n",
        "location_name('Los Angeles')\n",
        "location_name('Miami', 'Florida')"
      ],
      "execution_count": null,
      "outputs": [
        {
          "output_type": "stream",
          "text": [
            "I have been to Denver & New York\n",
            "I have been to Los Angeles & New York\n",
            "I have been to Miami & Florida\n"
          ],
          "name": "stdout"
        }
      ]
    }
  ]
}