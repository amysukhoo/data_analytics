{
  "nbformat": 4,
  "nbformat_minor": 0,
  "metadata": {
    "colab": {
      "name": "Amy Sukhoo_ Unit2_Loop_Assignment_3.ipynb",
      "provenance": [],
      "collapsed_sections": [],
      "toc_visible": true,
      "include_colab_link": true
    },
    "kernelspec": {
      "name": "python3",
      "display_name": "Python 3"
    }
  },
  "cells": [
    {
      "cell_type": "markdown",
      "metadata": {
        "id": "view-in-github",
        "colab_type": "text"
      },
      "source": [
        "<a href=\"https://colab.research.google.com/github/amysukhoo/data_analytics/blob/main/Python/Amy_Sukhoo__Unit2_Loop_Assignment_3.ipynb\" target=\"_parent\"><img src=\"https://colab.research.google.com/assets/colab-badge.svg\" alt=\"Open In Colab\"/></a>"
      ]
    },
    {
      "cell_type": "markdown",
      "metadata": {
        "id": "Vgs8Kp4TidFQ"
      },
      "source": [
        "# Intrdouction to Python - Loop - Assignment #3 "
      ]
    },
    {
      "cell_type": "markdown",
      "metadata": {
        "id": "_Hq7Ny79iwgD"
      },
      "source": [
        "## 1. Create a list that holds 5 data variables. "
      ]
    },
    {
      "cell_type": "code",
      "metadata": {
        "id": "lotvpVpvlKsR"
      },
      "source": [
        "colors= ['purple','pink','blue','yellow','orange']"
      ],
      "execution_count": null,
      "outputs": []
    },
    {
      "cell_type": "code",
      "metadata": {
        "id": "oNXY-CfrlLbE"
      },
      "source": [
        ""
      ],
      "execution_count": null,
      "outputs": []
    },
    {
      "cell_type": "markdown",
      "metadata": {
        "id": "io_27RSlizno"
      },
      "source": [
        "## 2.\tPrint out those variables by using a for loop"
      ]
    },
    {
      "cell_type": "code",
      "metadata": {
        "id": "Dh1o5cAylSHB",
        "colab": {
          "base_uri": "https://localhost:8080/"
        },
        "outputId": "3e5c7822-55bc-4fcf-c235-f9d540f9dace"
      },
      "source": [
        "favoritecolors= ['purple','pink','blue','yellow','orange']\r\n",
        "for color in favoritecolors:\r\n",
        "  print(color)\r\n"
      ],
      "execution_count": null,
      "outputs": [
        {
          "output_type": "stream",
          "text": [
            "purple\n",
            "pink\n",
            "blue\n",
            "yellow\n",
            "orange\n"
          ],
          "name": "stdout"
        }
      ]
    },
    {
      "cell_type": "code",
      "metadata": {
        "id": "vs8ppR-wlSKL"
      },
      "source": [
        ""
      ],
      "execution_count": null,
      "outputs": []
    },
    {
      "cell_type": "markdown",
      "metadata": {
        "id": "DAW8m8IQjRyR"
      },
      "source": [
        "## 3.\tModify your for loop to add a message to your for loop."
      ]
    },
    {
      "cell_type": "code",
      "metadata": {
        "id": "guULMEhrjYtT",
        "colab": {
          "base_uri": "https://localhost:8080/"
        },
        "outputId": "005369bd-baae-4a1b-9233-87d21c6ba394"
      },
      "source": [
        "favoritecolors= ['purple','pink','blue','yellow','orange']\r\n",
        "for color in favoritecolors:\r\n",
        "    print(color.title() + \", is one of my favorite colors!\")"
      ],
      "execution_count": null,
      "outputs": [
        {
          "output_type": "stream",
          "text": [
            "Purple, is one of my favorite colors!\n",
            "Pink, is one of my favorite colors!\n",
            "Blue, is one of my favorite colors!\n",
            "Yellow, is one of my favorite colors!\n",
            "Orange, is one of my favorite colors!\n"
          ],
          "name": "stdout"
        }
      ]
    },
    {
      "cell_type": "code",
      "metadata": {
        "id": "cv946RaOjw-G"
      },
      "source": [
        ""
      ],
      "execution_count": null,
      "outputs": []
    },
    {
      "cell_type": "markdown",
      "metadata": {
        "id": "dpa_YOt4jXyo"
      },
      "source": [
        "## 4.\tUse a for loop to print even numbers from 1-20."
      ]
    },
    {
      "cell_type": "code",
      "metadata": {
        "id": "pltxfnh3iJLW",
        "colab": {
          "base_uri": "https://localhost:8080/"
        },
        "outputId": "a99dc86c-47c8-4ce8-ba45-96d7f34fa6c0"
      },
      "source": [
        "for num in range (0,21, 2 ):\r\n",
        "    print (num)"
      ],
      "execution_count": null,
      "outputs": [
        {
          "output_type": "stream",
          "text": [
            "0\n",
            "2\n",
            "4\n",
            "6\n",
            "8\n",
            "10\n",
            "12\n",
            "14\n",
            "16\n",
            "18\n",
            "20\n"
          ],
          "name": "stdout"
        }
      ]
    },
    {
      "cell_type": "code",
      "metadata": {
        "id": "PzH5Rcn-jwPL"
      },
      "source": [
        ""
      ],
      "execution_count": null,
      "outputs": []
    },
    {
      "cell_type": "markdown",
      "metadata": {
        "id": "Ka84RGy4jmLT"
      },
      "source": [
        "## 5.\tSort your list in alphabetic order."
      ]
    },
    {
      "cell_type": "code",
      "metadata": {
        "id": "34IFFtK4jrg4",
        "colab": {
          "base_uri": "https://localhost:8080/"
        },
        "outputId": "2d0dca9a-5a2b-45b8-c849-2c56d9e63ea8"
      },
      "source": [
        "favoritecolors= ['purple','pink','blue','yellow','orange']\r\n",
        "print(favoritecolors)\r\n",
        "favoritecolors.sort()\r\n",
        "print(favoritecolors)\r\n"
      ],
      "execution_count": null,
      "outputs": [
        {
          "output_type": "stream",
          "text": [
            "['purple', 'pink', 'blue', 'yellow', 'orange']\n",
            "['blue', 'orange', 'pink', 'purple', 'yellow']\n"
          ],
          "name": "stdout"
        }
      ]
    },
    {
      "cell_type": "code",
      "metadata": {
        "id": "M17RfxQljvqb"
      },
      "source": [
        ""
      ],
      "execution_count": null,
      "outputs": []
    },
    {
      "cell_type": "code",
      "metadata": {
        "id": "4agTp_Cyju4-"
      },
      "source": [
        ""
      ],
      "execution_count": null,
      "outputs": []
    },
    {
      "cell_type": "markdown",
      "metadata": {
        "id": "ZKHwdMnLliFy"
      },
      "source": [
        "## 6.\tPrint out the first three elements of your list."
      ]
    },
    {
      "cell_type": "code",
      "metadata": {
        "id": "eXUDZfLOllTT",
        "colab": {
          "base_uri": "https://localhost:8080/"
        },
        "outputId": "f500bd27-3a11-4c35-d8fc-17ac71b10b4f"
      },
      "source": [
        "favoritecolors= ['blue', 'orange', 'pink', 'purple', 'yellow']\r\n",
        "print(favoritecolors[0:3])"
      ],
      "execution_count": null,
      "outputs": [
        {
          "output_type": "stream",
          "text": [
            "['blue', 'orange', 'pink']\n"
          ],
          "name": "stdout"
        }
      ]
    },
    {
      "cell_type": "code",
      "metadata": {
        "id": "4oNKGU70llVg"
      },
      "source": [
        ""
      ],
      "execution_count": null,
      "outputs": []
    },
    {
      "cell_type": "markdown",
      "metadata": {
        "id": "oedkoLECmv6x"
      },
      "source": [
        "## 7.\tCreate a loop to print the last 2 elements of your list."
      ]
    },
    {
      "cell_type": "code",
      "metadata": {
        "id": "jjh2GdktllZY",
        "colab": {
          "base_uri": "https://localhost:8080/"
        },
        "outputId": "9cbf18ed-7bfb-46ea-8ff8-153c9e3ebe26"
      },
      "source": [
        "favoritecolors=['blue', 'orange', 'pink', 'purple', 'yellow']\r\n",
        "print(\"last two colors in the list\")\r\n",
        "for colors in favoritecolors[-2:]:\r\n",
        "  print(colors.title())"
      ],
      "execution_count": null,
      "outputs": [
        {
          "output_type": "stream",
          "text": [
            "last two colors in the list\n",
            "Purple\n",
            "Yellow\n"
          ],
          "name": "stdout"
        }
      ]
    },
    {
      "cell_type": "code",
      "metadata": {
        "id": "iHaRIrt8llcd"
      },
      "source": [
        ""
      ],
      "execution_count": null,
      "outputs": []
    }
  ]
}