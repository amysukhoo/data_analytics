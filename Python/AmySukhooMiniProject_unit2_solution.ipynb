{
  "nbformat": 4,
  "nbformat_minor": 0,
  "metadata": {
    "colab": {
      "name": "AmySukhooMiniProject_unit2_solution.ipynb",
      "provenance": [],
      "collapsed_sections": [],
      "include_colab_link": true
    },
    "kernelspec": {
      "name": "python3",
      "display_name": "Python 3"
    }
  },
  "cells": [
    {
      "cell_type": "markdown",
      "metadata": {
        "id": "view-in-github",
        "colab_type": "text"
      },
      "source": [
        "<a href=\"https://colab.research.google.com/github/amysukhoo/data_analytics/blob/main/Python/AmySukhooMiniProject_unit2_solution.ipynb\" target=\"_parent\"><img src=\"https://colab.research.google.com/assets/colab-badge.svg\" alt=\"Open In Colab\"/></a>"
      ]
    },
    {
      "cell_type": "markdown",
      "metadata": {
        "id": "eyOFW9MkrE38"
      },
      "source": [
        "Ask the user for a number. Depending on whether the number is even or odd, print out an appropriate message to the user.  Hint: how does an even / odd number react differently when divided by 2?\r\n",
        "\r\n",
        "**Bonus:**\r\n",
        "* if the number is a multiple of 4, print out a different message.\r\n",
        "* Ask the user for two numbers: one number to check (call it num) and one number to divide by (check).  If check divides evenly into num, tell that to the user.  If not, print a different appropriate message.\r\n",
        "* Write a custom function for finding whether the number is even or odd and call it in your main program code.\r\n",
        "\r\n",
        "\r\n",
        "\r\n",
        "\r\n",
        "\r\n"
      ]
    },
    {
      "cell_type": "code",
      "metadata": {
        "id": "l3PpjTi8q3zC"
      },
      "source": [
        "number = input(\"Input a number \")\r\n",
        "if int(number) % 2 == 0:\r\n",
        "    print(str(number) + \" is an Even number.\")\r\n",
        "else:\r\n",
        "    print(str(number) + \" is an Odd number.\")\r\n",
        "if int(number) % 4 ==0:\r\n",
        "    print(str(number) + \" is a multiple of 4, \" )\r\n",
        "\r\n",
        "num = input(\"Input a number \")\r\n",
        "check = input(\"Input a number\")\r\n",
        "if int(num) % int(check) ==0:\r\n",
        "   print(str(num) + \" \" + \" is evenly divided by \" + \" \" + str(check))\r\n",
        "else:\r\n",
        "   print(str(num) + \" \" + \"cannot divide evenly by \" + \" \" + str(check))\r\n"
      ],
      "execution_count": null,
      "outputs": []
    },
    {
      "cell_type": "markdown",
      "metadata": {
        "id": "j0aCubXkEui8"
      },
      "source": [
        "Make a two-player Rock-Paper-Scissors game. (Hint: Ask for player plays (using input), compare them, print out a message of congratulations to the winner, and ask if the players want to start a new game)​\r\n",
        "\r\n",
        "\r\n",
        "*  Remember the rules:​\r\n",
        "*  Rock beats scissors​\r\n",
        "*  Scissors beats paper​\r\n",
        "*  Paper beats rock\r\n",
        "\r\n",
        "\r\n",
        "\r\n",
        "\r\n",
        "\r\n",
        "\r\n"
      ]
    },
    {
      "cell_type": "code",
      "metadata": {
        "id": "ZwF9wr3eE7Fa",
        "colab": {
          "base_uri": "https://localhost:8080/"
        },
        "outputId": "a2221b08-df9d-452c-e548-92c9292cd44c"
      },
      "source": [
        "p1_call = input(\"Player 1, Enter rock/paper/scissors: \")\r\n",
        "p2_call = input(\"Player 2, Enter rock/paper/scissors: \")\r\n",
        "\r\n",
        "def rock_paper_scissors(player_1, player_2):\r\n",
        "    list = [\"rock\", \"paper\", \"scissors\"]\r\n",
        "\r\n",
        "\r\n",
        "\r\n",
        "    while player_1 == player_2:\r\n",
        "        print (\"Nobody wins. Try again\")\r\n",
        "        player_1 = input(\"Player 1, Enter rock/paper/scissors: \")\r\n",
        "        player_2 = input(\"Player 2, Enter rock/paper/scissors: \")\r\n",
        "\r\n",
        "    if player_1 == \"rock\" and player_2 == \"paper\":\r\n",
        "        print (\"Player 2 wins!\")\r\n",
        "\r\n",
        "    elif player_1 == \"paper\" and player_2 == \"rock\":\r\n",
        "        print (\"Player 1 wins!\")\r\n",
        "\r\n",
        "    elif player_1 == \"rock\" and player_2 == \"scissors\":\r\n",
        "        print (\"Player 1 wins!\")\r\n",
        "\r\n",
        "    elif player_1 == \"scissors\" and player_2 == \"rock\":\r\n",
        "        print (\"Player 2 wins\")\r\n",
        "\r\n",
        "    elif player_1 == \"paper\" and player_2 == \"scissors\":\r\n",
        "        print (\"Player 2 wins!\")\r\n",
        "\r\n",
        "    elif player_1 == \"scissors\" and player_2 == \"paper\":\r\n",
        "        print (\"Player 1 wins!\")\r\n",
        "\r\n",
        "rock_paper_scissors(p1_call, p2_call)"
      ],
      "execution_count": 9,
      "outputs": [
        {
          "output_type": "stream",
          "text": [
            "Player 1, Enter rock/paper/scissors: rock\n",
            "Player 2, Enter rock/paper/scissors: paper\n",
            "Player 2 wins!\n"
          ],
          "name": "stdout"
        }
      ]
    }
  ]
}