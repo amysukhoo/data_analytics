{
  "nbformat": 4,
  "nbformat_minor": 0,
  "metadata": {
    "colab": {
      "name": "Lists 1/7/21.ipynb",
      "provenance": [],
      "collapsed_sections": [],
      "authorship_tag": "ABX9TyNrHpDMW2eW6m/VQngN4R0e",
      "include_colab_link": true
    },
    "kernelspec": {
      "name": "python3",
      "display_name": "Python 3"
    }
  },
  "cells": [
    {
      "cell_type": "markdown",
      "metadata": {
        "id": "view-in-github",
        "colab_type": "text"
      },
      "source": [
        "<a href=\"https://colab.research.google.com/github/amysukhoo/data_analytics/blob/main/Python/Lists_1_7_21.ipynb\" target=\"_parent\"><img src=\"https://colab.research.google.com/assets/colab-badge.svg\" alt=\"Open In Colab\"/></a>"
      ]
    },
    {
      "cell_type": "code",
      "metadata": {
        "colab": {
          "base_uri": "https://localhost:8080/"
        },
        "id": "oj7ZBdi8tZDH",
        "outputId": "5d850f29-7385-49d9-8e1e-1cdb056372ae"
      },
      "source": [
        "friends=['amanda' , 'josh' , 'susan', 'tom']\r\n",
        "print(friends[0])\r\n",
        "print(friends[1])\r\n",
        "print(friends[-2])\r\n",
        "print(friends[-1])\r\n",
        "message= \"My best friend is \" + friends[0] + \"!!\"\r\n",
        "print(message)\r\n",
        "message= \"My tallest friend is \" + friends[1] + \"!!\"\r\n",
        "print(message)\r\n",
        "message= \"My shortest friend is \" + friends[2] + \"!!\"\r\n",
        "print(message)\r\n",
        "message= \"My nicest friend is \" + friends[-1] + \"!!\"\r\n",
        "print(message)"
      ],
      "execution_count": null,
      "outputs": [
        {
          "output_type": "stream",
          "text": [
            "amanda\n",
            "josh\n",
            "susan\n",
            "tom\n",
            "My best friend is amanda!!\n",
            "My tallest friend is josh!!\n",
            "My shortest friend is susan!!\n",
            "My nicest friend is tom!!\n"
          ],
          "name": "stdout"
        }
      ]
    },
    {
      "cell_type": "code",
      "metadata": {
        "colab": {
          "base_uri": "https://localhost:8080/"
        },
        "id": "nLrHg9BivTD8",
        "outputId": "398a9aee-71ef-4af2-9b20-2628a83ac7f4"
      },
      "source": [
        "friends= ['Amy', 'David','Michael']\r\n",
        "print(friends)\r\n",
        "print(friends[1])\r\n",
        "print(friends[-1])\r\n",
        "print(friends[0])\r\n",
        "\r\n",
        "message= \"Long time no see, \" + friends[0]\r\n",
        "print(message+friends[0])"
      ],
      "execution_count": null,
      "outputs": [
        {
          "output_type": "stream",
          "text": [
            "['Amy', 'David', 'Michael']\n",
            "David\n",
            "Michael\n",
            "Amy\n",
            "Long time no see, AmyAmy\n"
          ],
          "name": "stdout"
        }
      ]
    },
    {
      "cell_type": "code",
      "metadata": {
        "colab": {
          "base_uri": "https://localhost:8080/"
        },
        "id": "apboZT5MyhlJ",
        "outputId": "1c13ff2f-2986-45b0-a0c8-eed689c2ef70"
      },
      "source": [
        "friends= ['Amy', 'David','Michael']\r\n",
        "friends[1] =\"Susan\"\r\n",
        "print(friends)\r\n",
        "friendsnew= (['Chloe' , \"Matthew\"])\r\n",
        "friends.append(friendsnew)\r\n",
        "print(friends)\r\n"
      ],
      "execution_count": null,
      "outputs": [
        {
          "output_type": "stream",
          "text": [
            "['Amy', 'Susan', 'Michael']\n",
            "['Amy', 'Susan', 'Michael', ['Chloe', 'Matthew']]\n"
          ],
          "name": "stdout"
        }
      ]
    },
    {
      "cell_type": "code",
      "metadata": {
        "colab": {
          "base_uri": "https://localhost:8080/"
        },
        "id": "pBmzDLzk2YXZ",
        "outputId": "c6695042-b81a-4837-c30f-4d26556295ad"
      },
      "source": [
        "friends= ['Amy', 'David','Michael']\r\n",
        "print(friends)\r\n",
        "del friends[1]\r\n",
        "print(friends)\r\n"
      ],
      "execution_count": null,
      "outputs": [
        {
          "output_type": "stream",
          "text": [
            "['Amy', 'David', 'Michael']\n",
            "['Amy', 'Michael']\n",
            "['Michael']\n"
          ],
          "name": "stdout"
        }
      ]
    },
    {
      "cell_type": "code",
      "metadata": {
        "colab": {
          "base_uri": "https://localhost:8080/"
        },
        "id": "tyR2TW19384d",
        "outputId": "847c1cc8-a038-4ce9-827f-87adbff262e8"
      },
      "source": [
        "friends= ['Amy', 'David','Michael']\r\n",
        "print(friends)\r\n",
        "friends.remove(\"Amy\")\r\n",
        "print(friends)"
      ],
      "execution_count": null,
      "outputs": [
        {
          "output_type": "stream",
          "text": [
            "['Amy', 'David', 'Michael']\n",
            "['David', 'Michael']\n"
          ],
          "name": "stdout"
        }
      ]
    },
    {
      "cell_type": "code",
      "metadata": {
        "colab": {
          "base_uri": "https://localhost:8080/"
        },
        "id": "HS_bA3jitqyk",
        "outputId": "0cd88471-94c2-46ed-d3b3-b11bddea4b88"
      },
      "source": [
        "foods= ['pizza', 'pasta', 'rice']\r\n",
        "message= \"I love \" + foods[0] + \",  \" + foods [1] + \",  \" + foods [2] \r\n",
        "print(message)\r\n",
        "foods.append ('chicken')\r\n",
        "print(foods)\r\n",
        "foods.remove('rice')\r\n",
        "print(foods)\r\n",
        "foods.insert(0,'popcorn')\r\n",
        "print(foods)"
      ],
      "execution_count": null,
      "outputs": [
        {
          "output_type": "stream",
          "text": [
            "I love pizza,  pasta,  rice\n",
            "['pizza', 'pasta', 'rice', 'chicken']\n",
            "['pizza', 'pasta', 'chicken']\n",
            "['popcorn', 'pizza', 'pasta', 'chicken']\n"
          ],
          "name": "stdout"
        }
      ]
    },
    {
      "cell_type": "code",
      "metadata": {
        "colab": {
          "base_uri": "https://localhost:8080/"
        },
        "id": "B9breRC65UBi",
        "outputId": "38b075a8-9b1a-4ecf-b05e-6fcdc9954154"
      },
      "source": [
        "foodordered= [\"bread\", \"salad\", \"soup\"]\r\n",
        "print(foodordered)\r\n",
        "foodordered.append(\"pie\")\r\n",
        "print(foodordered)\r\n",
        "foodordered.insert(2,\"Coke\")\r\n",
        "print(foodordered)\r\n"
      ],
      "execution_count": null,
      "outputs": [
        {
          "output_type": "stream",
          "text": [
            "['bread', 'salad', 'soup']\n",
            "['bread', 'salad', 'soup', 'pie']\n",
            "['bread', 'salad', 'Coke', 'soup', 'pie']\n"
          ],
          "name": "stdout"
        }
      ]
    },
    {
      "cell_type": "code",
      "metadata": {
        "colab": {
          "base_uri": "https://localhost:8080/"
        },
        "id": "pmjqpSfS7CB6",
        "outputId": "0c9cea38-edbe-457c-c5e2-147f0c3092d4"
      },
      "source": [
        "foodordered= [\"bread\", \"salad\",\"pie\", \"coke\", \"soup\"]\r\n",
        "print(foodordered)\r\n",
        "foodordered.sort()\r\n",
        "print(foodordered)\r\n",
        "foodordered.sort(reverse=True)\r\n",
        "print(foodordered)\r\n",
        "len(foodordered)"
      ],
      "execution_count": null,
      "outputs": [
        {
          "output_type": "stream",
          "text": [
            "['bread', 'salad', 'pie', 'coke', 'soup']\n",
            "['bread', 'coke', 'pie', 'salad', 'soup']\n",
            "['soup', 'salad', 'pie', 'coke', 'bread']\n"
          ],
          "name": "stdout"
        },
        {
          "output_type": "execute_result",
          "data": {
            "text/plain": [
              "5"
            ]
          },
          "metadata": {
            "tags": []
          },
          "execution_count": 22
        }
      ]
    },
    {
      "cell_type": "code",
      "metadata": {
        "colab": {
          "base_uri": "https://localhost:8080/"
        },
        "id": "t_BwzO3VuACq",
        "outputId": "2fb668b4-680e-4687-e61b-09ff96e1f2a2"
      },
      "source": [
        "places= ['Bahamas', 'Paris', 'Aruba', 'Key West', 'London']\r\n",
        "print(places)\r\n",
        "places.sort()\r\n",
        "print(places)\r\n",
        "places.sort(reverse=True)\r\n",
        "print(places)\r\n",
        "len(places)"
      ],
      "execution_count": null,
      "outputs": [
        {
          "output_type": "stream",
          "text": [
            "['Bahamas', 'Paris', 'Aruba', 'Key West', 'London']\n",
            "['Aruba', 'Bahamas', 'Key West', 'London', 'Paris']\n",
            "['Paris', 'London', 'Key West', 'Bahamas', 'Aruba']\n"
          ],
          "name": "stdout"
        },
        {
          "output_type": "execute_result",
          "data": {
            "text/plain": [
              "5"
            ]
          },
          "metadata": {
            "tags": []
          },
          "execution_count": 23
        }
      ]
    }
  ]
}