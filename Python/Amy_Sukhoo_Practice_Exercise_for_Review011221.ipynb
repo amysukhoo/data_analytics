{
  "nbformat": 4,
  "nbformat_minor": 0,
  "metadata": {
    "colab": {
      "name": "Amy Sukhoo_Practice_Exercise_for_Review011221.ipynb",
      "provenance": [],
      "collapsed_sections": [],
      "include_colab_link": true
    },
    "kernelspec": {
      "name": "python3",
      "display_name": "Python 3"
    }
  },
  "cells": [
    {
      "cell_type": "markdown",
      "metadata": {
        "id": "view-in-github",
        "colab_type": "text"
      },
      "source": [
        "<a href=\"https://colab.research.google.com/github/amysukhoo/data_analytics/blob/main/Python/Amy_Sukhoo_Practice_Exercise_for_Review011221.ipynb\" target=\"_parent\"><img src=\"https://colab.research.google.com/assets/colab-badge.svg\" alt=\"Open In Colab\"/></a>"
      ]
    },
    {
      "cell_type": "markdown",
      "metadata": {
        "id": "tXcr7hqpYFIo"
      },
      "source": [
        "1. Write a Python program to sum all the items in a list"
      ]
    },
    {
      "cell_type": "code",
      "metadata": {
        "id": "Htkj5scKX53s",
        "colab": {
          "base_uri": "https://localhost:8080/"
        },
        "outputId": "a3518f54-605e-4116-fb99-765e41038b31"
      },
      "source": [
        "def sum_list(items):\n",
        "  sum_numbers = 0\n",
        "  for x in items:\n",
        "     sum_numbers += x\n",
        "  return sum_numbers\n",
        "print(sum_list([1,2,3]))"
      ],
      "execution_count": null,
      "outputs": [
        {
          "output_type": "stream",
          "text": [
            "6\n"
          ],
          "name": "stdout"
        }
      ]
    },
    {
      "cell_type": "markdown",
      "metadata": {
        "id": "2P9TAiyYYOcc"
      },
      "source": [
        "2. Write a Python program to count the number of strings where the string length is 2 or more and the first and last character are same from a given list of strings\r\n",
        "* Sample List : ['abc', 'xyz', 'aba', '1221']\r\n",
        "\r\n",
        "\r\n"
      ]
    },
    {
      "cell_type": "code",
      "metadata": {
        "id": "0XL35NokYpBZ",
        "colab": {
          "base_uri": "https://localhost:8080/"
        },
        "outputId": "2436619f-4deb-43fe-a22c-d62d4b790457"
      },
      "source": [
        "def match_words(words):\n",
        "  ctr = 0\n",
        "\n",
        "  for word in words:\n",
        "    if len(word) > 1 and word[0] == word[-1]:\n",
        "      ctr += 1\n",
        "  return ctr\n",
        "\n",
        "print(match_words(['abc', 'xyz', 'aba', '1221']))\n"
      ],
      "execution_count": null,
      "outputs": [
        {
          "output_type": "stream",
          "text": [
            "2\n"
          ],
          "name": "stdout"
        }
      ]
    },
    {
      "cell_type": "markdown",
      "metadata": {
        "id": "4lsqufkdYqHg"
      },
      "source": [
        "3. Write a Python function that takes two lists and returns True if they have at least one common member."
      ]
    },
    {
      "cell_type": "code",
      "metadata": {
        "id": "hNhFSqHFYsWa",
        "colab": {
          "base_uri": "https://localhost:8080/"
        },
        "outputId": "108fd6f5-a445-43d3-e49b-fc7b43dea0ae"
      },
      "source": [
        "def common_data(list1, list2):\n",
        "     result = False\n",
        "     for x in list1:\n",
        "         for y in list2:\n",
        "             if x == y:\n",
        "                 result = True\n",
        "                 return result\n",
        "print(common_data([1,2,3,4,5], [5,6,7,8,9]))\n",
        "print(common_data([1,2,3,4,5], [6,7,8,9]))"
      ],
      "execution_count": null,
      "outputs": [
        {
          "output_type": "stream",
          "text": [
            "True\n",
            "None\n"
          ],
          "name": "stdout"
        }
      ]
    },
    {
      "cell_type": "markdown",
      "metadata": {
        "id": "vYfPDaBmYtFo"
      },
      "source": [
        "4. Write a Python program to print a specified list after removing the 0th, 4th and 5th elements.\r\n",
        "* Sample List : ['Red', 'Green', 'White', 'Black', 'Pink', 'Yellow']\r\n",
        "\r\n",
        "\r\n",
        "\r\n",
        "\r\n",
        "\r\n"
      ]
    },
    {
      "cell_type": "code",
      "metadata": {
        "id": "wXCNsI3qZAjB",
        "colab": {
          "base_uri": "https://localhost:8080/"
        },
        "outputId": "7fd50471-11cf-4914-94e9-966407f5fd6b"
      },
      "source": [
        "colors= ['Red', 'Green', 'White', 'Black', 'Pink', 'Yellow']\n",
        "colors =[x for (i,x) in enumerate(colors) if i not in (0,4,5)]\n",
        "print(colors)"
      ],
      "execution_count": null,
      "outputs": [
        {
          "output_type": "stream",
          "text": [
            "['Green', 'White', 'Black']\n"
          ],
          "name": "stdout"
        }
      ]
    },
    {
      "cell_type": "markdown",
      "metadata": {
        "id": "TR8c2eW_ZBJI"
      },
      "source": [
        ""
      ]
    },
    {
      "cell_type": "markdown",
      "metadata": {
        "id": "6qkBW70uZEkh"
      },
      "source": [
        "5. Write a Python program to print the numbers of a specified list after removing even numbers from it."
      ]
    },
    {
      "cell_type": "code",
      "metadata": {
        "id": "4BZTc8uqZHQo",
        "colab": {
          "base_uri": "https://localhost:8080/"
        },
        "outputId": "95adcd84-e0b5-41d6-bac9-acba30f97e17"
      },
      "source": [
        "num = [1,2,3,4,5,6]\n",
        "num = [x for x in num if x%2!=0]\n",
        "print(num)"
      ],
      "execution_count": null,
      "outputs": [
        {
          "output_type": "stream",
          "text": [
            "[1, 3, 5]\n"
          ],
          "name": "stdout"
        }
      ]
    },
    {
      "cell_type": "markdown",
      "metadata": {
        "id": "iIrq_TfAZQhk"
      },
      "source": [
        "6. Write a Python program to convert a list of characters into a string."
      ]
    },
    {
      "cell_type": "code",
      "metadata": {
        "id": "9hPTJj5gZSnk",
        "colab": {
          "base_uri": "https://localhost:8080/",
          "height": 35
        },
        "outputId": "b439eb1f-cc2c-44ef-8487-b465e6aba570"
      },
      "source": [
        "list=['a','b','c','d']\n",
        "''.join(list)"
      ],
      "execution_count": null,
      "outputs": [
        {
          "output_type": "execute_result",
          "data": {
            "application/vnd.google.colaboratory.intrinsic+json": {
              "type": "string"
            },
            "text/plain": [
              "'abcd'"
            ]
          },
          "metadata": {
            "tags": []
          },
          "execution_count": 52
        }
      ]
    },
    {
      "cell_type": "markdown",
      "metadata": {
        "id": "SkdABAMBZgar"
      },
      "source": [
        "8. Write a Python program to count the number of elements in a list within a specified range."
      ]
    },
    {
      "cell_type": "code",
      "metadata": {
        "id": "-7xMT5hwaDsO",
        "colab": {
          "base_uri": "https://localhost:8080/"
        },
        "outputId": "8ed2667a-4e5a-4670-e0cd-df36ed6be182"
      },
      "source": [
        "def count_range_in_list(li,min,max):\n",
        "  ctr=0\n",
        "  for x in li:\n",
        "      if min <= x <= max:\n",
        "        ctr += 1\n",
        "  return ctr\n",
        "\n",
        "list= [2,4,6,8,10]\n",
        "print(count_range_in_list(list,6,10))\n"
      ],
      "execution_count": null,
      "outputs": [
        {
          "output_type": "stream",
          "text": [
            "3\n"
          ],
          "name": "stdout"
        }
      ]
    },
    {
      "cell_type": "markdown",
      "metadata": {
        "id": "3LxonRtgceIz"
      },
      "source": [
        "9. Write a Python program to convert a list of multiple integers into a single integer\r\n",
        "*  Sample list: [11, 33, 50]\r\n",
        "\r\n"
      ]
    },
    {
      "cell_type": "code",
      "metadata": {
        "id": "TCkuaRkAciey",
        "colab": {
          "base_uri": "https://localhost:8080/"
        },
        "outputId": "87682f0f-f1f5-4d36-942b-91e9f13f0edd"
      },
      "source": [
        "samplelst= [11, 33, 50]\n",
        "for i in samplelst:\n",
        "    print(i,end=\"\")"
      ],
      "execution_count": null,
      "outputs": [
        {
          "output_type": "stream",
          "text": [
            "113350"
          ],
          "name": "stdout"
        }
      ]
    },
    {
      "cell_type": "markdown",
      "metadata": {
        "id": "X5V3Hvh1hafZ"
      },
      "source": [
        "10.Write a Python program to print a nested lists (each list on a new line) using the print() function.\r\n",
        "\r\n",
        "*  colors = [['Red'], ['Green'], ['Black']]\r\n",
        "\r\n"
      ]
    },
    {
      "cell_type": "code",
      "metadata": {
        "id": "04nRLJj1eYjM",
        "colab": {
          "base_uri": "https://localhost:8080/"
        },
        "outputId": "55fa1ee9-f3ba-4bd0-aaa8-d0265adc9f37"
      },
      "source": [
        "colors = [['Red'], ['Green'], ['Black']]\n",
        "\n",
        "for i in colors:\n",
        "        print(*i)"
      ],
      "execution_count": null,
      "outputs": [
        {
          "output_type": "stream",
          "text": [
            "Red\n",
            "Green\n",
            "Black\n"
          ],
          "name": "stdout"
        }
      ]
    },
    {
      "cell_type": "markdown",
      "metadata": {
        "id": "6aoN9DIcik2G"
      },
      "source": [
        "11. Write a Python script to concatenate following dictionaries to create a new one using a loop\r\n",
        "\r\n",
        "* dic1={1:10, 2:20}\r\n",
        "* dic2={3:30, 4:40}\r\n",
        "* dic3={5:50,6:60}\r\n",
        "\r\n",
        "\r\n",
        "\r\n",
        "\r\n"
      ]
    },
    {
      "cell_type": "code",
      "metadata": {
        "id": "tRcQVNDajOBG",
        "colab": {
          "base_uri": "https://localhost:8080/"
        },
        "outputId": "b42ee21f-3f3f-469c-8e20-de716355b7d4"
      },
      "source": [
        "dic1={1:10, 2:20}\n",
        "dic2={3:30, 4:40}\n",
        "dic3={5:50,6:60}\n",
        "dic4= {}\n",
        "for d in (dic1,dic2,dic3): dic4.update(d)\n",
        "print(dic4)"
      ],
      "execution_count": null,
      "outputs": [
        {
          "output_type": "stream",
          "text": [
            "{1: 10, 2: 20, 3: 30, 4: 40, 5: 50, 6: 60}\n"
          ],
          "name": "stdout"
        }
      ]
    },
    {
      "cell_type": "markdown",
      "metadata": {
        "id": "LJ9xp0nmjV-0"
      },
      "source": [
        "12.Write a Python script to check whether a given key already exists in a dictionary."
      ]
    },
    {
      "cell_type": "code",
      "metadata": {
        "id": "o6eNQ9RQjlHc",
        "colab": {
          "base_uri": "https://localhost:8080/"
        },
        "outputId": "2b986e23-6de7-4b98-acbe-e54c839a604a"
      },
      "source": [
        "dictionary = {1:'Amy',2: 'is', 3:'my', 4:'name'}\n",
        "def is_key_present(x):\n",
        "  if x in dictionary:\n",
        "    print('key is present in the dictionary')\n",
        "  else:\n",
        "    print('key is not present in the dictionary')\n",
        "is_key_present(3)\n",
        "is_key_present(5)"
      ],
      "execution_count": null,
      "outputs": [
        {
          "output_type": "stream",
          "text": [
            "key is present in the dictionary\n",
            "key is not present in the dictionary\n"
          ],
          "name": "stdout"
        }
      ]
    },
    {
      "cell_type": "markdown",
      "metadata": {
        "id": "u49NsDHVkGed"
      },
      "source": [
        "13  Write a Python program to check the validity of password input by users. Go to the editor\r\n",
        "Validation :\r\n",
        "*  At least 1 character from [$#@].\r\n",
        "*  Minimum length 6 characters.\r\n",
        "\r\n",
        "\r\n",
        "\r\n"
      ]
    },
    {
      "cell_type": "code",
      "metadata": {
        "id": "tBrQdblskbzJ",
        "colab": {
          "base_uri": "https://localhost:8080/"
        },
        "outputId": "d7e1f78f-4116-4f8a-a90b-42c9a6862f29"
      },
      "source": [
        "import re\n",
        "p=input(\"Input your password\")\n",
        "x = True\n",
        "while x:\n",
        "  if(len(p)<6):\n",
        "    break\n",
        "  elif not re.search(\"[$#A]\", p):\n",
        "    break\n",
        "  else:\n",
        "     print(\"Valid Password\")\n",
        "     x=False\n",
        "     break\n",
        "if x : \n",
        "  print(\"Not a valid password\")"
      ],
      "execution_count": null,
      "outputs": [
        {
          "output_type": "stream",
          "text": [
            "Input your password12345$\n",
            "Valid Password\n"
          ],
          "name": "stdout"
        }
      ]
    },
    {
      "cell_type": "markdown",
      "metadata": {
        "id": "bgyJXNNKlpnh"
      },
      "source": [
        "14. Write a Python program to reverse a string"
      ]
    },
    {
      "cell_type": "code",
      "metadata": {
        "id": "ajCggiVklvqT",
        "colab": {
          "base_uri": "https://localhost:8080/"
        },
        "outputId": "224dc7bb-40e0-4d6a-e178-4bdfaf2496a9"
      },
      "source": [
        "def reverse_slicing(s):\n",
        "    return s[::-1]\n",
        "\n",
        "input_str = 'ABCDEF'\n",
        "\n",
        "if __name__ == \"__main__\":\n",
        "    print('Reverse String using slicing =', reverse_slicing(input_str))"
      ],
      "execution_count": null,
      "outputs": [
        {
          "output_type": "stream",
          "text": [
            "Reverse String using slicing = FEDCBA\n"
          ],
          "name": "stdout"
        }
      ]
    },
    {
      "cell_type": "markdown",
      "metadata": {
        "id": "6td2aFajmDEY"
      },
      "source": [
        "15. rite a Python program that accepts a hyphen-separated sequence of words as input and prints the words in a hyphen-separated sequence after sorting them alphabetically\r\n",
        "* green-red-yellow-black-white\r\n",
        "\r\n",
        "\r\n"
      ]
    },
    {
      "cell_type": "code",
      "metadata": {
        "id": "ZKYkFqtymN8r",
        "colab": {
          "base_uri": "https://localhost:8080/"
        },
        "outputId": "5d63be34-c346-4174-f985-d72dd2024a07"
      },
      "source": [
        "items=[n for n in input().split('-')]\n",
        "items.sort()\n",
        "print('-'.join(items))"
      ],
      "execution_count": null,
      "outputs": [
        {
          "output_type": "stream",
          "text": [
            "green-red-yellow-black-white\n",
            "black-green-red-white-yellow\n"
          ],
          "name": "stdout"
        }
      ]
    }
  ]
}