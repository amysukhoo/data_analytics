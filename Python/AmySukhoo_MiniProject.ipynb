{
  "nbformat": 4,
  "nbformat_minor": 0,
  "metadata": {
    "colab": {
      "name": "AmySukhoo_MiniProject.ipynb",
      "provenance": [],
      "authorship_tag": "ABX9TyONiuZt8D7F5vLBAMj3C0Ym",
      "include_colab_link": true
    },
    "kernelspec": {
      "name": "python3",
      "display_name": "Python 3"
    }
  },
  "cells": [
    {
      "cell_type": "markdown",
      "metadata": {
        "id": "view-in-github",
        "colab_type": "text"
      },
      "source": [
        "<a href=\"https://colab.research.google.com/github/amysukhoo/data_analytics/blob/main/Python/AmySukhoo_MiniProject.ipynb\" target=\"_parent\"><img src=\"https://colab.research.google.com/assets/colab-badge.svg\" alt=\"Open In Colab\"/></a>"
      ]
    },
    {
      "cell_type": "code",
      "metadata": {
        "colab": {
          "base_uri": "https://localhost:8080/"
        },
        "id": "ZdgQLzgJ2_rB",
        "outputId": "635d4863-4472-4a62-9606-0223a199be34"
      },
      "source": [
        "number = input(\"Input a number \")\n",
        "if int(number) % 2 == 0:\n",
        "    print(str(number) + \" is an Even number.\")\n",
        "else:\n",
        "    print(str(number) + \" is an Odd number.\")\n",
        "if int(number) % 4 ==0:\n",
        "    print(str(number) + \" is a multiple of 4, \" )\n",
        "\n",
        "num = input(\"Input a number \")\n",
        "check = input(\"Input a number\")\n",
        "if int(num) % int(check) ==0:\n",
        "   print(str(num) + \" \" + \" is evenly divided by \" + \" \" + str(check))\n",
        "else:\n",
        "   print(str(num) + \" \" + \"cannot divide evenly by \" + \" \" + str(check))\n"
      ],
      "execution_count": 25,
      "outputs": [
        {
          "output_type": "stream",
          "text": [
            "Input a number 1\n",
            "1 is an Odd number.\n",
            "Input a number 10\n",
            "Input a number5\n",
            "10  is evenly divided by  5\n"
          ],
          "name": "stdout"
        }
      ]
    }
  ]
}