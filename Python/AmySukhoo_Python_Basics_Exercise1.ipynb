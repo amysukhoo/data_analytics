{
  "nbformat": 4,
  "nbformat_minor": 0,
  "metadata": {
    "colab": {
      "name": "AmySukhoo_Python_Basics_Exercise1.ipynb",
      "provenance": [],
      "collapsed_sections": [],
      "include_colab_link": true
    },
    "kernelspec": {
      "name": "python3",
      "display_name": "Python 3"
    }
  },
  "cells": [
    {
      "cell_type": "markdown",
      "metadata": {
        "id": "view-in-github",
        "colab_type": "text"
      },
      "source": [
        "<a href=\"https://colab.research.google.com/github/amysukhoo/data_analytics/blob/main/Python/AmySukhoo_Python_Basics_Exercise1.ipynb\" target=\"_parent\"><img src=\"https://colab.research.google.com/assets/colab-badge.svg\" alt=\"Open In Colab\"/></a>"
      ]
    },
    {
      "cell_type": "markdown",
      "metadata": {
        "id": "g3-tSKRt_mkM"
      },
      "source": [
        "**PYTHON EXERCISE FOR PRACTICE**"
      ]
    },
    {
      "cell_type": "markdown",
      "metadata": {
        "id": "bC_6Uz7DBqBH"
      },
      "source": [
        "**1: Given a two integer numbers return their product and  if the product is greater than 1000, then return their sum**\r\n",
        "\r\n",
        "number1 = 20\r\n",
        "\r\n",
        "number2 = 30"
      ]
    },
    {
      "cell_type": "code",
      "metadata": {
        "id": "HKa8yElOCEhb",
        "colab": {
          "base_uri": "https://localhost:8080/"
        },
        "outputId": "0ea4f287-7960-40cf-95d6-f5b27dda0042"
      },
      "source": [
        "def multiplication_or_sum(num1, num2):\n",
        "    product = num1 * num2\n",
        "    if product <= 1000:\n",
        "        return product\n",
        "    else:\n",
        "        return num1 + num2\n",
        "\n",
        "number1 = 20\n",
        "number2 = 30\n",
        "\n",
        "result = multiplication_or_sum(number1, number2)\n",
        "print(\"The result is\", result)"
      ],
      "execution_count": null,
      "outputs": [
        {
          "output_type": "stream",
          "text": [
            "The result is 600\n"
          ],
          "name": "stdout"
        }
      ]
    },
    {
      "cell_type": "markdown",
      "metadata": {
        "id": "gi4_I_PzCG8b"
      },
      "source": [
        "**2: Given a range of first 10 numbers, Iterate from start number to the end number and print the sum of the current number and previous number.**"
      ]
    },
    {
      "cell_type": "code",
      "metadata": {
        "id": "kEiCkup1CPI-",
        "colab": {
          "base_uri": "https://localhost:8080/"
        },
        "outputId": "0686bc59-3166-4112-8d94-c2cd64016a69"
      },
      "source": [
        "def sumNum(num):\n",
        "    previousNum = 0\n",
        "    for i in range(num):\n",
        "        sum = previousNum + i\n",
        "        print(\"Current Number\", i, \"Previous Number \", previousNum,\" Sum: \", sum)\n",
        "        previousNum = i\n",
        "\n",
        "print(\"Printing current and previous number sum in a given range(10)\")\n",
        "sumNum(10)"
      ],
      "execution_count": null,
      "outputs": [
        {
          "output_type": "stream",
          "text": [
            "Printing current and previous number sum in a given range(10)\n",
            "Current Number 0 Previous Number  0  Sum:  0\n",
            "Current Number 1 Previous Number  0  Sum:  1\n",
            "Current Number 2 Previous Number  1  Sum:  3\n",
            "Current Number 3 Previous Number  2  Sum:  5\n",
            "Current Number 4 Previous Number  3  Sum:  7\n",
            "Current Number 5 Previous Number  4  Sum:  9\n",
            "Current Number 6 Previous Number  5  Sum:  11\n",
            "Current Number 7 Previous Number  6  Sum:  13\n",
            "Current Number 8 Previous Number  7  Sum:  15\n",
            "Current Number 9 Previous Number  8  Sum:  17\n"
          ],
          "name": "stdout"
        }
      ]
    },
    {
      "cell_type": "markdown",
      "metadata": {
        "id": "TC9qS9y1CXub"
      },
      "source": [
        "**3: In the string \"pynative\", display only those characters which are present at an even index number.**"
      ]
    },
    {
      "cell_type": "code",
      "metadata": {
        "id": "TuKk3dabCsNB",
        "colab": {
          "base_uri": "https://localhost:8080/"
        },
        "outputId": "9689e545-e287-4ad2-e044-80e930d73376"
      },
      "source": [
        "def printevenindexchar(str):\n",
        "  for i in range(0, len(str)-1, 2):\n",
        "    print(\"index[\",i,\"]\", str[i] )\n",
        "\n",
        "inputStr = \"pynative\" \n",
        "\n",
        "print(\"Printing only even index chars\")\n",
        "printevenindexchar(inputStr)"
      ],
      "execution_count": null,
      "outputs": [
        {
          "output_type": "stream",
          "text": [
            "Printing only even index chars\n",
            "index[ 0 ] p\n",
            "index[ 2 ] n\n",
            "index[ 4 ] t\n",
            "index[ 6 ] v\n"
          ],
          "name": "stdout"
        }
      ]
    },
    {
      "cell_type": "markdown",
      "metadata": {
        "id": "I0P344TnCtM_"
      },
      "source": [
        "**4: In the string \"pynative\" remove characters from zero up to 5 and return a new string**"
      ]
    },
    {
      "cell_type": "code",
      "metadata": {
        "id": "Ydf43l5_DB3E",
        "colab": {
          "base_uri": "https://localhost:8080/"
        },
        "outputId": "249b6b9e-4ea6-4a68-bd6b-650e70f5f2cc"
      },
      "source": [
        "def removeChar(str, n):\n",
        "  return str[n:]\n",
        "\n",
        "print(\"Removing 0-5  chars\")\n",
        "print(removeChar(\"pynative\", 6))"
      ],
      "execution_count": null,
      "outputs": [
        {
          "output_type": "stream",
          "text": [
            "Removing 0-5  chars\n",
            "ve\n"
          ],
          "name": "stdout"
        }
      ]
    },
    {
      "cell_type": "markdown",
      "metadata": {
        "id": "5i7uTUBtDQDL"
      },
      "source": [
        "**5: Reverse numbers 121 and 125 and return true if it is the same as the original number.**"
      ]
    },
    {
      "cell_type": "code",
      "metadata": {
        "id": "uVb1zuoiDl4C",
        "colab": {
          "base_uri": "https://localhost:8080/"
        },
        "outputId": "6a96253d-ed4e-4487-bf4f-7fc32ee19c49"
      },
      "source": [
        "def reverseCheck(number):\n",
        "    print(\"original number\", number)\n",
        "    originalNum = number\n",
        "    reverseNum = 0\n",
        "    while (number > 0):\n",
        "        reminder = number % 10\n",
        "        reverseNum = (reverseNum * 10) + reminder\n",
        "        number = number // 10\n",
        "    if (originalNum == reverseNum):\n",
        "        return True\n",
        "    else:\n",
        "        return False\n",
        "  \n",
        "      \n",
        "    \n",
        "print(reverseCheck(121))\n",
        "print(reverseCheck(125))\n"
      ],
      "execution_count": null,
      "outputs": [
        {
          "output_type": "stream",
          "text": [
            "original number 121\n",
            "True\n",
            "original number 125\n",
            "False\n"
          ],
          "name": "stdout"
        }
      ]
    },
    {
      "cell_type": "markdown",
      "metadata": {
        "id": "cf2_0MYzDuxl"
      },
      "source": [
        "**6: Given two list of numbers create a new list such that new list should contain only odd numbers from the first list and even numbers from the second list.**\r\n",
        "\r\n",
        "1.  List 1  [10, 20, 23, 11, 17]\r\n",
        "2.  List 2  [13, 43, 24, 36, 12]\r\n",
        "\r\n",
        "\r\n",
        "\r\n",
        " \r\n"
      ]
    },
    {
      "cell_type": "code",
      "metadata": {
        "colab": {
          "base_uri": "https://localhost:8080/"
        },
        "id": "FUGN4v5DlJfk",
        "outputId": "b6aac0b2-6c6e-4f56-d885-89f9b46165ef"
      },
      "source": [
        "List_1= [10, 20, 23, 11, 17]\n",
        "List_2 =[13, 43, 24, 36, 12]\n",
        "List_3 = [n for n in List_1 if n%2]+[n for n in List_2 if not n%2]\n",
        "print(List_3)"
      ],
      "execution_count": null,
      "outputs": [
        {
          "output_type": "stream",
          "text": [
            "[23, 11, 17, 24, 36, 12]\n"
          ],
          "name": "stdout"
        }
      ]
    },
    {
      "cell_type": "markdown",
      "metadata": {
        "id": "z5GgC036ESdH"
      },
      "source": [
        "**7: Write a code to extract each digit from the integer 7536  in the reverse order**"
      ]
    },
    {
      "cell_type": "code",
      "metadata": {
        "id": "KA27ivt9EfVR",
        "colab": {
          "base_uri": "https://localhost:8080/"
        },
        "outputId": "72e81427-fcc8-4eee-e0c3-2d03b2ddf7ca"
      },
      "source": [
        "n=7536\n",
        "rev=0\n",
        "while(n>0):\n",
        "    dig=n%10\n",
        "    rev=rev*10+dig\n",
        "    n=n//10\n",
        "print(rev)"
      ],
      "execution_count": null,
      "outputs": [
        {
          "output_type": "stream",
          "text": [
            "6357\n"
          ],
          "name": "stdout"
        }
      ]
    },
    {
      "cell_type": "markdown",
      "metadata": {
        "id": "Ac2IVsHR_x3f"
      },
      "source": [
        "**8. What is the output of the following code?**"
      ]
    },
    {
      "cell_type": "code",
      "metadata": {
        "id": "dzuN79j2_mE_",
        "colab": {
          "base_uri": "https://localhost:8080/",
          "height": 232
        },
        "outputId": "d740d391-1914-425e-a3c4-8984cdfa405e"
      },
      "source": [
        "sampleList = [\"Jon\", \"Kelly\", \"Jessa\"]\r\n",
        "sampleList.append(2, \"Scott\")\r\n",
        "print(sampleList)\r\n",
        "\r\n",
        "#1.the program excuted with errors"
      ],
      "execution_count": null,
      "outputs": [
        {
          "output_type": "error",
          "ename": "TypeError",
          "evalue": "ignored",
          "traceback": [
            "\u001b[0;31m---------------------------------------------------------------------------\u001b[0m",
            "\u001b[0;31mTypeError\u001b[0m                                 Traceback (most recent call last)",
            "\u001b[0;32m<ipython-input-33-26f17773f73c>\u001b[0m in \u001b[0;36m<module>\u001b[0;34m()\u001b[0m\n\u001b[1;32m      1\u001b[0m \u001b[0msampleList\u001b[0m \u001b[0;34m=\u001b[0m \u001b[0;34m[\u001b[0m\u001b[0;34m\"Jon\"\u001b[0m\u001b[0;34m,\u001b[0m \u001b[0;34m\"Kelly\"\u001b[0m\u001b[0;34m,\u001b[0m \u001b[0;34m\"Jessa\"\u001b[0m\u001b[0;34m]\u001b[0m\u001b[0;34m\u001b[0m\u001b[0;34m\u001b[0m\u001b[0m\n\u001b[0;32m----> 2\u001b[0;31m \u001b[0msampleList\u001b[0m\u001b[0;34m.\u001b[0m\u001b[0mappend\u001b[0m\u001b[0;34m(\u001b[0m\u001b[0;36m2\u001b[0m\u001b[0;34m,\u001b[0m \u001b[0;34m\"Scott\"\u001b[0m\u001b[0;34m)\u001b[0m\u001b[0;34m\u001b[0m\u001b[0;34m\u001b[0m\u001b[0m\n\u001b[0m\u001b[1;32m      3\u001b[0m \u001b[0mprint\u001b[0m\u001b[0;34m(\u001b[0m\u001b[0msampleList\u001b[0m\u001b[0;34m)\u001b[0m\u001b[0;34m\u001b[0m\u001b[0;34m\u001b[0m\u001b[0m\n\u001b[1;32m      4\u001b[0m \u001b[0;34m\u001b[0m\u001b[0m\n\u001b[1;32m      5\u001b[0m \u001b[0;31m#1.the program excuted with errors\u001b[0m\u001b[0;34m\u001b[0m\u001b[0;34m\u001b[0m\u001b[0;34m\u001b[0m\u001b[0m\n",
            "\u001b[0;31mTypeError\u001b[0m: append() takes exactly one argument (2 given)"
          ]
        }
      ]
    },
    {
      "cell_type": "markdown",
      "metadata": {
        "id": "mqNHojQj_7Gu"
      },
      "source": [
        "1.   The program executed with errors\r\n",
        "1.   [‘Jon’, ‘Kelly’, ‘Scott’, ‘Jessa’]\r\n",
        "2.   [‘Jon’, ‘Kelly’, ‘Jessa’, ‘Scott’]\r\n",
        "2.   [‘Jon’, ‘Scott’, ‘Kelly’, ‘Jessa’]\r\n",
        "\r\n",
        "\r\n"
      ]
    },
    {
      "cell_type": "markdown",
      "metadata": {
        "id": "hOzDvWv2Aqic"
      },
      "source": [
        "***9. What is the output of the following code?***"
      ]
    },
    {
      "cell_type": "code",
      "metadata": {
        "id": "GYNREZfOAw65",
        "colab": {
          "base_uri": "https://localhost:8080/"
        },
        "outputId": "37d71b9e-0d52-48a6-c255-4d13a8c371a3"
      },
      "source": [
        "valueOne = 5 ** 2\r\n",
        "valueTwo = 5 ** 3\r\n",
        "\r\n",
        "print(valueOne)\r\n",
        "print(valueTwo)\r\n",
        "\r\n",
        "#2.25 & 125\r\n",
        "#these variables are calculating the factorial of the number."
      ],
      "execution_count": null,
      "outputs": [
        {
          "output_type": "stream",
          "text": [
            "25\n",
            "125\n"
          ],
          "name": "stdout"
        }
      ]
    },
    {
      "cell_type": "markdown",
      "metadata": {
        "id": "VGsfNQ_QA2HK"
      },
      "source": [
        "\r\n",
        "1. 10\r\n",
        "   15\r\n",
        "2. 25 \r\n",
        "   125\r\n",
        "1.Error: invalid syntax\r\n",
        "\r\n",
        "\r\n",
        "\r\n",
        "\r\n",
        "\r\n",
        "\r\n",
        "\r\n"
      ]
    },
    {
      "cell_type": "markdown",
      "metadata": {
        "id": "GCgvAVj6sG1N"
      },
      "source": [
        "**10. Display the following data using string.format() method and as a message**\r\n",
        "* totalMoney = 1000\r\n",
        "* quantity =3\r\n",
        "* price = 450 \r\n",
        "\r\n",
        "\r\n",
        "\r\n",
        "\r\n"
      ]
    },
    {
      "cell_type": "code",
      "metadata": {
        "id": "dtXfJx31syUY",
        "colab": {
          "base_uri": "https://localhost:8080/"
        },
        "outputId": "3d879a1d-9200-4356-cc03-d725199f27df"
      },
      "source": [
        "print('The quantity of {quantity} x {price} equals a total of ${totalMoney}'.format(\n",
        "     totalMoney=1000,\n",
        "     quantity=3,\n",
        "     price=450))\n"
      ],
      "execution_count": null,
      "outputs": [
        {
          "output_type": "stream",
          "text": [
            "The quantity of 3 x 450 equals a total of $1000\n"
          ],
          "name": "stdout"
        }
      ]
    },
    {
      "cell_type": "markdown",
      "metadata": {
        "id": "yxY9xGyLsywP"
      },
      "source": [
        "**11: Print First 10 natural numbers using while loop**"
      ]
    },
    {
      "cell_type": "code",
      "metadata": {
        "colab": {
          "base_uri": "https://localhost:8080/"
        },
        "id": "D5RLSiauk348",
        "outputId": "3e059afc-05af-4cef-aa22-8e98c17870a3"
      },
      "source": [
        "i = 1\n",
        "while(i<=10):\n",
        "    print(i)\n",
        "    i += 1"
      ],
      "execution_count": null,
      "outputs": [
        {
          "output_type": "stream",
          "text": [
            "1\n",
            "2\n",
            "3\n",
            "4\n",
            "5\n",
            "6\n",
            "7\n",
            "8\n",
            "9\n",
            "10\n"
          ],
          "name": "stdout"
        }
      ]
    },
    {
      "cell_type": "markdown",
      "metadata": {
        "id": "WhRDBtDutC4M"
      },
      "source": [
        ""
      ]
    },
    {
      "cell_type": "markdown",
      "metadata": {
        "id": "5MBJ7mAztE0p"
      },
      "source": [
        "**12.  Reverse the following list using for loop**\r\n",
        "\r\n",
        "list1 = [10, 20, 30, 40, 50]"
      ]
    },
    {
      "cell_type": "code",
      "metadata": {
        "id": "TdWqlpJXtUvG",
        "colab": {
          "base_uri": "https://localhost:8080/"
        },
        "outputId": "305dcd85-cb92-4281-f075-1b21dac90507"
      },
      "source": [
        "list1 = [10, 20, 30, 40, 50]\n",
        "start = len(list1) - 1\n",
        "stop = -1\n",
        "step = -1\n",
        "for i in range(start, stop, step) :\n",
        "    print(list1[i])"
      ],
      "execution_count": null,
      "outputs": [
        {
          "output_type": "stream",
          "text": [
            "50\n",
            "40\n",
            "30\n",
            "20\n",
            "10\n"
          ],
          "name": "stdout"
        }
      ]
    },
    {
      "cell_type": "markdown",
      "metadata": {
        "id": "LyQAuxbgtVTM"
      },
      "source": [
        "**13: Display a message “Done” after successful execution of for loop**"
      ]
    },
    {
      "cell_type": "code",
      "metadata": {
        "id": "K8M3XInHtebM",
        "colab": {
          "base_uri": "https://localhost:8080/"
        },
        "outputId": "395d183d-58a1-4edc-ed61-218e2c190c68"
      },
      "source": [
        "for i in range(20):\n",
        "    print(i)\n",
        "else:\n",
        "    print(\"Done!\")"
      ],
      "execution_count": null,
      "outputs": [
        {
          "output_type": "stream",
          "text": [
            "0\n",
            "1\n",
            "2\n",
            "3\n",
            "4\n",
            "5\n",
            "6\n",
            "7\n",
            "8\n",
            "9\n",
            "10\n",
            "11\n",
            "12\n",
            "13\n",
            "14\n",
            "15\n",
            "16\n",
            "17\n",
            "18\n",
            "19\n",
            "Done!\n"
          ],
          "name": "stdout"
        }
      ]
    },
    {
      "cell_type": "markdown",
      "metadata": {
        "id": "Uggz_8FotmMO"
      },
      "source": [
        "**14. Use a loop to display elements from the given list (my_list) which are present at even positions**\r\n",
        "my_list = [10, 20, 30, 40, 50, 60, 70, 80, 90, 100]"
      ]
    },
    {
      "cell_type": "code",
      "metadata": {
        "id": "XI42cUtJtxha",
        "colab": {
          "base_uri": "https://localhost:8080/"
        },
        "outputId": "ae5871ea-b113-40da-c371-26831629db8a"
      },
      "source": [
        "my_list = [10, 20, 30, 40, 50, 60, 70, 80, 90, 100]\n",
        "for i in my_list[0::2]:\n",
        "    print(i, end=\" \")"
      ],
      "execution_count": null,
      "outputs": [
        {
          "output_type": "stream",
          "text": [
            "10 30 50 70 90 "
          ],
          "name": "stdout"
        }
      ]
    },
    {
      "cell_type": "markdown",
      "metadata": {
        "id": "usUBQQ0ouFgI"
      },
      "source": [
        "**15. Create a list of your favourite 5 fruits. Then**\r\n",
        "\r\n",
        "Add 2 new fruits to the list\r\n",
        "What's the length of your list now?\r\n",
        "Remove any one fruit from the list\r\n",
        "What's the new length of the list now?\r\n",
        "Could you sort the list? \r\n"
      ]
    },
    {
      "cell_type": "code",
      "metadata": {
        "id": "FyzB7ZnEyq0X",
        "colab": {
          "base_uri": "https://localhost:8080/"
        },
        "outputId": "69d8e52d-345e-40a1-ff25-ee0c0e7d0e01"
      },
      "source": [
        "fruit_list= ['apples','oranges','peaches']\n",
        "fruit_list.append('bananas')\n",
        "fruit_list.append('blueberries')\n",
        "print(fruit_list)\n",
        "len(fruit_list)\n",
        "fruit_list.remove('apples')\n",
        "print(fruit_list)\n",
        "len(fruit_list)\n",
        "fruit_list.sort()\n",
        "print(fruit_list)"
      ],
      "execution_count": null,
      "outputs": [
        {
          "output_type": "stream",
          "text": [
            "['apples', 'oranges', 'peaches', 'bananas', 'blueberries']\n",
            "['oranges', 'peaches', 'bananas', 'blueberries']\n",
            "['bananas', 'blueberries', 'oranges', 'peaches']\n"
          ],
          "name": "stdout"
        }
      ]
    },
    {
      "cell_type": "markdown",
      "metadata": {
        "id": "YnjUxqA8yMHc"
      },
      "source": [
        ""
      ]
    }
  ]
}