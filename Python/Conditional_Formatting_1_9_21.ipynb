{
  "nbformat": 4,
  "nbformat_minor": 0,
  "metadata": {
    "colab": {
      "name": "Conditional Formatting 1_9_21.ipynb",
      "provenance": [],
      "authorship_tag": "ABX9TyMEGYoK8bAJZKW6an8wCmTZ",
      "include_colab_link": true
    },
    "kernelspec": {
      "name": "python3",
      "display_name": "Python 3"
    }
  },
  "cells": [
    {
      "cell_type": "markdown",
      "metadata": {
        "id": "view-in-github",
        "colab_type": "text"
      },
      "source": [
        "<a href=\"https://colab.research.google.com/github/amysukhoo/data_analytics/blob/main/Python/Conditional_Formatting_1_9_21.ipynb\" target=\"_parent\"><img src=\"https://colab.research.google.com/assets/colab-badge.svg\" alt=\"Open In Colab\"/></a>"
      ]
    },
    {
      "cell_type": "code",
      "metadata": {
        "colab": {
          "base_uri": "https://localhost:8080/"
        },
        "id": "_CIUOA0ZouU2",
        "outputId": "96003ba9-46c1-4c3d-f1cd-96fb41623c8f"
      },
      "source": [
        "motorcycles = ['ducati', 'bmw', 'yamaha' , 'honda']\n",
        "\n",
        "for bike in motorcycles:\n",
        "  if bike == 'ducati':\n",
        "    print(bike.upper())\n",
        "  else:\n",
        "    print(bike.lower())"
      ],
      "execution_count": null,
      "outputs": [
        {
          "output_type": "stream",
          "text": [
            "DUCATI\n",
            "bmw\n",
            "yamaha\n",
            "honda\n"
          ],
          "name": "stdout"
        }
      ]
    },
    {
      "cell_type": "code",
      "metadata": {
        "colab": {
          "base_uri": "https://localhost:8080/"
        },
        "id": "BASHV3p9pbjQ",
        "outputId": "d8db80e9-e9da-4a70-e680-a1d7138ee576"
      },
      "source": [
        "bike = 'honda'\n",
        "bike == 'honda'"
      ],
      "execution_count": null,
      "outputs": [
        {
          "output_type": "execute_result",
          "data": {
            "text/plain": [
              "True"
            ]
          },
          "metadata": {
            "tags": []
          },
          "execution_count": 32
        }
      ]
    },
    {
      "cell_type": "code",
      "metadata": {
        "colab": {
          "base_uri": "https://localhost:8080/"
        },
        "id": "9e-LG12pprzD",
        "outputId": "e3e15b48-85e2-4381-a3b6-bf760be8bf9d"
      },
      "source": [
        "bike = 'bmw'\n",
        "bike == 'honda'"
      ],
      "execution_count": null,
      "outputs": [
        {
          "output_type": "execute_result",
          "data": {
            "text/plain": [
              "False"
            ]
          },
          "metadata": {
            "tags": []
          },
          "execution_count": 3
        }
      ]
    },
    {
      "cell_type": "code",
      "metadata": {
        "colab": {
          "base_uri": "https://localhost:8080/"
        },
        "id": "wEq-eZDlpyFd",
        "outputId": "ac7887db-026d-477f-baa9-9d72f31f9100"
      },
      "source": [
        "bike = 'ducati'\n",
        "bike == 'Ducati'"
      ],
      "execution_count": null,
      "outputs": [
        {
          "output_type": "execute_result",
          "data": {
            "text/plain": [
              "False"
            ]
          },
          "metadata": {
            "tags": []
          },
          "execution_count": 4
        }
      ]
    },
    {
      "cell_type": "code",
      "metadata": {
        "colab": {
          "base_uri": "https://localhost:8080/"
        },
        "id": "QdDLzof1p7DO",
        "outputId": "612c8434-2357-4218-fec0-5f46a284d401"
      },
      "source": [
        "bike = ['ducati']\n",
        "for name in bike:\n",
        "  if name == 'Ducati':\n",
        "   print(name.upper())\n",
        "  else:\n",
        "    print(name.lower())\n",
        "   "
      ],
      "execution_count": null,
      "outputs": [
        {
          "output_type": "stream",
          "text": [
            "ducati\n"
          ],
          "name": "stdout"
        }
      ]
    },
    {
      "cell_type": "code",
      "metadata": {
        "colab": {
          "base_uri": "https://localhost:8080/"
        },
        "id": "tA522Kfsrfg7",
        "outputId": "3f54172f-a120-4ac9-df7b-aeb56e4eb197"
      },
      "source": [
        "patient_exam = 'echo'\n",
        "\n",
        "if patient_exam != 'ecg' :\n",
        "  print('Incorrect exam!')"
      ],
      "execution_count": null,
      "outputs": [
        {
          "output_type": "stream",
          "text": [
            "Incorrect exam!\n"
          ],
          "name": "stdout"
        }
      ]
    },
    {
      "cell_type": "code",
      "metadata": {
        "colab": {
          "base_uri": "https://localhost:8080/"
        },
        "id": "4P7qLQnFtP_U",
        "outputId": "5a9298ac-34a4-4e7f-d66c-932b2f192f6c"
      },
      "source": [
        "readmit_days_after_discharge = 29\n",
        "if readmit_days_after_discharge < 30:\n",
        "  print(\"Patient was readmitted within 30 days\")\n",
        "else: \n",
        "  print(\"patient was readmitted after 30 days\")"
      ],
      "execution_count": null,
      "outputs": [
        {
          "output_type": "stream",
          "text": [
            "Patient was readmitted within 30 days\n"
          ],
          "name": "stdout"
        }
      ]
    },
    {
      "cell_type": "code",
      "metadata": {
        "colab": {
          "base_uri": "https://localhost:8080/"
        },
        "id": "yF3xH9hEtw6-",
        "outputId": "eb7253f5-0438-45d0-def1-24296064ff97"
      },
      "source": [
        "studentA_age = 24\n",
        "studentB_age = 33\n",
        "studentA_age >= 20 or studentB_age >= 21\n"
      ],
      "execution_count": null,
      "outputs": [
        {
          "output_type": "execute_result",
          "data": {
            "text/plain": [
              "True"
            ]
          },
          "metadata": {
            "tags": []
          },
          "execution_count": 21
        }
      ]
    },
    {
      "cell_type": "code",
      "metadata": {
        "colab": {
          "base_uri": "https://localhost:8080/"
        },
        "id": "fnc4pm0DuEyV",
        "outputId": "2af08443-5d1d-4a0c-ed81-35e7a3e94f8a"
      },
      "source": [
        "studentA_age = 24\n",
        "studentB_age = 19\n",
        "studentA_age >= 20 and studentB_age >= 21"
      ],
      "execution_count": null,
      "outputs": [
        {
          "output_type": "execute_result",
          "data": {
            "text/plain": [
              "False"
            ]
          },
          "metadata": {
            "tags": []
          },
          "execution_count": 22
        }
      ]
    },
    {
      "cell_type": "code",
      "metadata": {
        "id": "Kh6gc4cfvY6C"
      },
      "source": [
        ""
      ],
      "execution_count": null,
      "outputs": []
    },
    {
      "cell_type": "code",
      "metadata": {
        "colab": {
          "base_uri": "https://localhost:8080/"
        },
        "id": "uWJI5-zKvY7n",
        "outputId": "af202e64-4ff6-4d99-a2a6-6947bde4c3d1"
      },
      "source": [
        "patient_exam_record = ['ecg','echo','cath']\n",
        "\n",
        "'cath' in patient_exam_record"
      ],
      "execution_count": null,
      "outputs": [
        {
          "output_type": "execute_result",
          "data": {
            "text/plain": [
              "True"
            ]
          },
          "metadata": {
            "tags": []
          },
          "execution_count": 23
        }
      ]
    },
    {
      "cell_type": "code",
      "metadata": {
        "colab": {
          "base_uri": "https://localhost:8080/"
        },
        "id": "FmvarQJUvl9f",
        "outputId": "c6a72197-0547-43b7-f3f6-b61ebe38b98a"
      },
      "source": [
        "patient_allergies = ['latex','penicillin','aspirin']\n",
        "new_allergy = 'ibuprofen'\n",
        "\n",
        "if new_allergy not in patient_allergies:\n",
        "    print(new_allergy.title() + \", was not in the previous allergy list. Please confirm.\")"
      ],
      "execution_count": null,
      "outputs": [
        {
          "output_type": "stream",
          "text": [
            "Ibuprofen, was not in the previous allergy list. Please confirm.\n"
          ],
          "name": "stdout"
        }
      ]
    },
    {
      "cell_type": "code",
      "metadata": {
        "colab": {
          "base_uri": "https://localhost:8080/"
        },
        "id": "UN_Z0xIrwXkp",
        "outputId": "cada73e7-a034-4064-fcd9-ab471ca018d4"
      },
      "source": [
        "fruit= 'apple'\n",
        "fruit == 'apple'"
      ],
      "execution_count": null,
      "outputs": [
        {
          "output_type": "execute_result",
          "data": {
            "text/plain": [
              "True"
            ]
          },
          "metadata": {
            "tags": []
          },
          "execution_count": 25
        }
      ]
    },
    {
      "cell_type": "code",
      "metadata": {
        "colab": {
          "base_uri": "https://localhost:8080/"
        },
        "id": "sIyRrWiiwvG0",
        "outputId": "55caa145-fd3e-40a2-db49-8f79974b8114"
      },
      "source": [
        "fruit= 'apple'\n",
        "fruit == 'banana'"
      ],
      "execution_count": null,
      "outputs": [
        {
          "output_type": "execute_result",
          "data": {
            "text/plain": [
              "False"
            ]
          },
          "metadata": {
            "tags": []
          },
          "execution_count": 26
        }
      ]
    },
    {
      "cell_type": "code",
      "metadata": {
        "colab": {
          "base_uri": "https://localhost:8080/"
        },
        "id": "trT4gFoAKA4P",
        "outputId": "6aef08ba-9f42-4bd4-9113-f33bedbf772a"
      },
      "source": [
        "test_scores = 65\n",
        "if test_scores < 65:\n",
        "  print(\"student is not passing\")\n",
        "else:\n",
        "  print(\"student is passing\")\n"
      ],
      "execution_count": null,
      "outputs": [
        {
          "output_type": "stream",
          "text": [
            "student is passing\n"
          ],
          "name": "stdout"
        }
      ]
    },
    {
      "cell_type": "code",
      "metadata": {
        "colab": {
          "base_uri": "https://localhost:8080/"
        },
        "id": "x1muL8NfK0s3",
        "outputId": "dde2c62e-eb35-4f1d-b00c-88a9550a3491"
      },
      "source": [
        "test_scores = 95\n",
        "if test_scores > 90:\n",
        "  print(\"student is doing well\")\n",
        "else:\n",
        "  print(\"student is doing okay\")"
      ],
      "execution_count": null,
      "outputs": [
        {
          "output_type": "stream",
          "text": [
            "student is doing well\n"
          ],
          "name": "stdout"
        }
      ]
    },
    {
      "cell_type": "code",
      "metadata": {
        "colab": {
          "base_uri": "https://localhost:8080/"
        },
        "id": "VoHihnCSLGJV",
        "outputId": "58699dbd-61e4-49fb-a948-e828a6ebc341"
      },
      "source": [
        "test_scores = 95\n",
        "if test_scores >= 95:\n",
        "  print(\"student is doing  extremely well\")\n",
        "else:\n",
        "  print(\"student is doing okay\")"
      ],
      "execution_count": null,
      "outputs": [
        {
          "output_type": "stream",
          "text": [
            "student is doing  extremely well\n"
          ],
          "name": "stdout"
        }
      ]
    },
    {
      "cell_type": "code",
      "metadata": {
        "colab": {
          "base_uri": "https://localhost:8080/"
        },
        "id": "5jZeYhbhLOSf",
        "outputId": "b760a888-6cea-4459-9d5c-55509750d906"
      },
      "source": [
        "test_scores = 65\n",
        "if test_scores <= 65:\n",
        "  print(\"student is doing  extremely poor\")\n",
        "else:\n",
        "  print(\"student is passing\")"
      ],
      "execution_count": null,
      "outputs": [
        {
          "output_type": "stream",
          "text": [
            "student is doing  extremely poor\n"
          ],
          "name": "stdout"
        }
      ]
    },
    {
      "cell_type": "code",
      "metadata": {
        "colab": {
          "base_uri": "https://localhost:8080/"
        },
        "id": "FBz-GM80LalS",
        "outputId": "9075c64e-a967-457c-d196-975e4be04aa5"
      },
      "source": [
        "test_scores = 65\n",
        "if test_scores != 65:\n",
        "  print(\"student is doing  extremely poor\")\n",
        "else:\n",
        "  print(\"student is passing\")"
      ],
      "execution_count": null,
      "outputs": [
        {
          "output_type": "stream",
          "text": [
            "student is passing\n"
          ],
          "name": "stdout"
        }
      ]
    },
    {
      "cell_type": "code",
      "metadata": {
        "colab": {
          "base_uri": "https://localhost:8080/"
        },
        "id": "c34C78_RLuKz",
        "outputId": "2457e5ec-12ee-45a4-b64d-0b5e2cd2b695"
      },
      "source": [
        "testA_score=90\n",
        "testB_score=80\n",
        "testA_score >= 65 or testB_score >= 65"
      ],
      "execution_count": null,
      "outputs": [
        {
          "output_type": "execute_result",
          "data": {
            "text/plain": [
              "True"
            ]
          },
          "metadata": {
            "tags": []
          },
          "execution_count": 8
        }
      ]
    },
    {
      "cell_type": "code",
      "metadata": {
        "colab": {
          "base_uri": "https://localhost:8080/"
        },
        "id": "lsjHUjnSME6K",
        "outputId": "0d82bea7-3bf3-41fd-d1c5-64f49b2e55b4"
      },
      "source": [
        "testA_score=90\n",
        "testB_score=60\n",
        "testA_score >= 65 and testB_score >= 65"
      ],
      "execution_count": null,
      "outputs": [
        {
          "output_type": "execute_result",
          "data": {
            "text/plain": [
              "False"
            ]
          },
          "metadata": {
            "tags": []
          },
          "execution_count": 9
        }
      ]
    },
    {
      "cell_type": "code",
      "metadata": {
        "colab": {
          "base_uri": "https://localhost:8080/"
        },
        "id": "FLoe3QDtMMOp",
        "outputId": "f8ccf1e2-f6c7-49ca-812f-e4d8aa06b707"
      },
      "source": [
        "inventory_supplies_list= ['pens','paper','paper clips']\n",
        "\n",
        "'paper' in inventory_supplies_list"
      ],
      "execution_count": null,
      "outputs": [
        {
          "output_type": "execute_result",
          "data": {
            "text/plain": [
              "True"
            ]
          },
          "metadata": {
            "tags": []
          },
          "execution_count": 10
        }
      ]
    },
    {
      "cell_type": "code",
      "metadata": {
        "colab": {
          "base_uri": "https://localhost:8080/"
        },
        "id": "pzvgLzPfNMEg",
        "outputId": "1fbbe0dd-5728-4641-8302-56fc5f87a2e5"
      },
      "source": [
        "inventory_supplies_list = ['pens','paper','paper clips']\n",
        "new_supply = 'highlighter'\n",
        "\n",
        "if new_supply not in inventory_supplies_list:\n",
        "    print(new_supply.title() + \", was not in the previous inventory list. Please confirm.\")"
      ],
      "execution_count": null,
      "outputs": [
        {
          "output_type": "stream",
          "text": [
            "Highlighter, was not in the previous inventory list. Please confirm.\n"
          ],
          "name": "stdout"
        }
      ]
    },
    {
      "cell_type": "code",
      "metadata": {
        "colab": {
          "base_uri": "https://localhost:8080/"
        },
        "id": "H-gwxW2pNmKT",
        "outputId": "aa92090e-1f9e-42f0-f50f-54642f0ba38d"
      },
      "source": [
        "age = 19\n",
        "if age >= 18:\n",
        "  print(\"You're old enough to vote!\")\n",
        "  "
      ],
      "execution_count": null,
      "outputs": [
        {
          "output_type": "stream",
          "text": [
            "You're old enough to vote!\n"
          ],
          "name": "stdout"
        }
      ]
    },
    {
      "cell_type": "code",
      "metadata": {
        "id": "etQLPsjGNyz-"
      },
      "source": [
        "age = 17\n",
        "if age >= 18:\n",
        "  print(\"You're old enough to vote!\")\n",
        "  "
      ],
      "execution_count": null,
      "outputs": []
    },
    {
      "cell_type": "code",
      "metadata": {
        "colab": {
          "base_uri": "https://localhost:8080/"
        },
        "id": "z_CgHD3sOAPb",
        "outputId": "1314b73e-6b72-40a7-d432-4e64abdf83f9"
      },
      "source": [
        "age = 17\n",
        "if age >= 18:\n",
        "  print(\"You're old enough to vote!\")\n",
        "else:\n",
        "  print(\"Not old enough!\")"
      ],
      "execution_count": null,
      "outputs": [
        {
          "output_type": "stream",
          "text": [
            "Not old enough!\n"
          ],
          "name": "stdout"
        }
      ]
    },
    {
      "cell_type": "code",
      "metadata": {
        "colab": {
          "base_uri": "https://localhost:8080/"
        },
        "id": "jGZDcbVvOIZV",
        "outputId": "cb587672-ddd8-494f-ac34-e96878fade31"
      },
      "source": [
        "age = 32\n",
        "\n",
        "if age <5 :\n",
        "  print(\"Admission price is free\")\n",
        "elif age <18 :\n",
        "  print(\"Admission price is $5\")\n",
        "else:\n",
        "  print(\"Admission price is $10\")"
      ],
      "execution_count": null,
      "outputs": [
        {
          "output_type": "stream",
          "text": [
            "Admission price is $10\n"
          ],
          "name": "stdout"
        }
      ]
    },
    {
      "cell_type": "code",
      "metadata": {
        "colab": {
          "base_uri": "https://localhost:8080/"
        },
        "id": "OYRNFOEGO5w-",
        "outputId": "7d09b5fd-caeb-44d2-a454-9cd3d096dbcd"
      },
      "source": [
        "age = 17\n",
        "\n",
        "if age < 4:\n",
        "  price = 0\n",
        "\n",
        "elif age < 18:\n",
        "  price = 5\n",
        "\n",
        "else:\n",
        "  price = 10\n",
        "\n",
        "print (\"Admission price is: \" + str(price))"
      ],
      "execution_count": null,
      "outputs": [
        {
          "output_type": "stream",
          "text": [
            "Admission price is: 5\n"
          ],
          "name": "stdout"
        }
      ]
    },
    {
      "cell_type": "code",
      "metadata": {
        "colab": {
          "base_uri": "https://localhost:8080/"
        },
        "id": "AjjjoehzPXTm",
        "outputId": "525b9c93-65f7-45d0-81d2-45d7c385dc77"
      },
      "source": [
        "toppings = ['choclate', 'sprinkles']\n",
        "\n",
        "if 'choclate' in toppings:\n",
        "  print(\"adding choclate\")\n",
        "if 'sprinkles' in toppings:\n",
        "  print(\"adding sprinkles\")\n",
        "if 'peanuts' in toppings:\n",
        "  print(\"adding peanuts\")\n",
        "  "
      ],
      "execution_count": null,
      "outputs": [
        {
          "output_type": "stream",
          "text": [
            "adding choclate\n",
            "adding sprinkles\n"
          ],
          "name": "stdout"
        }
      ]
    },
    {
      "cell_type": "code",
      "metadata": {
        "colab": {
          "base_uri": "https://localhost:8080/"
        },
        "id": "MQjf70KvQECa",
        "outputId": "fd94fc61-e14d-4930-c206-9f09d9f852a8"
      },
      "source": [
        "age = 2\n",
        "\n",
        "if age <3 :\n",
        "  print(\"This person is a baby\")\n",
        "elif age <65 :\n",
        "  print(\"This person is an adult\")\n",
        "else:\n",
        "  print(\"This person is a senior\")"
      ],
      "execution_count": null,
      "outputs": [
        {
          "output_type": "stream",
          "text": [
            "This person is a baby\n"
          ],
          "name": "stdout"
        }
      ]
    },
    {
      "cell_type": "code",
      "metadata": {
        "colab": {
          "base_uri": "https://localhost:8080/"
        },
        "id": "hCQG_WI5Q-uM",
        "outputId": "978ae1b7-274f-4491-e0f0-e9f674c212db"
      },
      "source": [
        "age = 70\n",
        "\n",
        "if age <3 :\n",
        "  print(\"This person is a baby\")\n",
        "elif age <65 :\n",
        "  print(\"This person is an adult\")\n",
        "else:\n",
        "  print(\"This person is a senior\")"
      ],
      "execution_count": null,
      "outputs": [
        {
          "output_type": "stream",
          "text": [
            "This person is a senior\n"
          ],
          "name": "stdout"
        }
      ]
    },
    {
      "cell_type": "code",
      "metadata": {
        "colab": {
          "base_uri": "https://localhost:8080/"
        },
        "id": "ED5JCY9XRNow",
        "outputId": "d8a4d029-e24f-4edf-dc35-7e31bd297607"
      },
      "source": [
        "grocerylist = ['eggs', 'milk', 'strawberries', 'cereal' , 'bananas']\n",
        "\n",
        "if 'eggs' in grocerylist:\n",
        "  print(\"egss are on the list\")\n",
        "if 'milk' in grocerylist:\n",
        "  print(\"milk is on the list\")\n",
        "if 'strawberries' in grocerylist:\n",
        "  print(\"strawberries is on the list\")\n",
        "if 'cereal' in grocerylist:\n",
        "  print(\"cereal is on the list\")\n",
        "if 'bananas' in grocerylist:\n",
        "  print(\"bananas is on the list\")"
      ],
      "execution_count": null,
      "outputs": [
        {
          "output_type": "stream",
          "text": [
            "egss are on the list\n",
            "milk is on the list\n",
            "strawberries is on the list\n",
            "cereal is on the list\n",
            "bananas is on the list\n"
          ],
          "name": "stdout"
        }
      ]
    },
    {
      "cell_type": "code",
      "metadata": {
        "colab": {
          "base_uri": "https://localhost:8080/"
        },
        "id": "Obpw7nhVSUEx",
        "outputId": "21143f84-0187-42b8-8099-045f6f28a3ef"
      },
      "source": [
        "toppings = ['choclate' , 'sprinkles']\n",
        "\n",
        "for topping in toppings:\n",
        "  if topping == 'choclate' : \n",
        "     print(\"All out of choclate\")\n",
        "  else:\n",
        "    print(\"Adding the following topping!\" + topping)"
      ],
      "execution_count": null,
      "outputs": [
        {
          "output_type": "stream",
          "text": [
            "All out of choclate\n",
            "Adding the following topping!sprinkles\n"
          ],
          "name": "stdout"
        }
      ]
    }
  ]
}